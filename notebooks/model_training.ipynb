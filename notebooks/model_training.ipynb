{
 "cells": [
  {
   "cell_type": "code",
   "execution_count": 7,
   "metadata": {},
   "outputs": [],
   "source": [
    "import pandas as pd\n",
    "import numpy as np\n",
    "import seaborn as sns\n",
    "%matplotlib inline\n",
    "import warnings\n",
    "warnings.filterwarnings('ignore')\n",
    "import os\n",
    "os.environ['WANDB_DISABLED'] = 'true'"
   ]
  },
  {
   "cell_type": "code",
   "execution_count": 8,
   "metadata": {},
   "outputs": [
    {
     "data": {
      "text/html": [
       "<div>\n",
       "<style scoped>\n",
       "    .dataframe tbody tr th:only-of-type {\n",
       "        vertical-align: middle;\n",
       "    }\n",
       "\n",
       "    .dataframe tbody tr th {\n",
       "        vertical-align: top;\n",
       "    }\n",
       "\n",
       "    .dataframe thead th {\n",
       "        text-align: right;\n",
       "    }\n",
       "</style>\n",
       "<table border=\"1\" class=\"dataframe\">\n",
       "  <thead>\n",
       "    <tr style=\"text-align: right;\">\n",
       "      <th></th>\n",
       "      <th>id</th>\n",
       "      <th>unknown</th>\n",
       "      <th>Category</th>\n",
       "      <th>Text</th>\n",
       "    </tr>\n",
       "  </thead>\n",
       "  <tbody>\n",
       "    <tr>\n",
       "      <th>0</th>\n",
       "      <td>2401</td>\n",
       "      <td>Borderlands</td>\n",
       "      <td>Positive</td>\n",
       "      <td>im getting on borderlands and i will murder yo...</td>\n",
       "    </tr>\n",
       "    <tr>\n",
       "      <th>1</th>\n",
       "      <td>2401</td>\n",
       "      <td>Borderlands</td>\n",
       "      <td>Positive</td>\n",
       "      <td>I am coming to the borders and I will kill you...</td>\n",
       "    </tr>\n",
       "    <tr>\n",
       "      <th>2</th>\n",
       "      <td>2401</td>\n",
       "      <td>Borderlands</td>\n",
       "      <td>Positive</td>\n",
       "      <td>im getting on borderlands and i will kill you ...</td>\n",
       "    </tr>\n",
       "    <tr>\n",
       "      <th>3</th>\n",
       "      <td>2401</td>\n",
       "      <td>Borderlands</td>\n",
       "      <td>Positive</td>\n",
       "      <td>im coming on borderlands and i will murder you...</td>\n",
       "    </tr>\n",
       "    <tr>\n",
       "      <th>4</th>\n",
       "      <td>2401</td>\n",
       "      <td>Borderlands</td>\n",
       "      <td>Positive</td>\n",
       "      <td>im getting on borderlands 2 and i will murder ...</td>\n",
       "    </tr>\n",
       "  </tbody>\n",
       "</table>\n",
       "</div>"
      ],
      "text/plain": [
       "     id      unknown  Category  \\\n",
       "0  2401  Borderlands  Positive   \n",
       "1  2401  Borderlands  Positive   \n",
       "2  2401  Borderlands  Positive   \n",
       "3  2401  Borderlands  Positive   \n",
       "4  2401  Borderlands  Positive   \n",
       "\n",
       "                                                Text  \n",
       "0  im getting on borderlands and i will murder yo...  \n",
       "1  I am coming to the borders and I will kill you...  \n",
       "2  im getting on borderlands and i will kill you ...  \n",
       "3  im coming on borderlands and i will murder you...  \n",
       "4  im getting on borderlands 2 and i will murder ...  "
      ]
     },
     "execution_count": 8,
     "metadata": {},
     "output_type": "execute_result"
    }
   ],
   "source": [
    "train = pd.read_csv(r\"../data/twitter_training.csv\",names=['id','unknown','Category','Text'])\n",
    "test = pd.read_csv(r\"../data/twitter_validation.csv\",names=['id','unknown','Category','Text'])\n",
    "train.head()"
   ]
  },
  {
   "cell_type": "code",
   "execution_count": 9,
   "metadata": {},
   "outputs": [
    {
     "data": {
      "text/plain": [
       "Category\n",
       "Neutral       285\n",
       "Positive      277\n",
       "Negative      266\n",
       "Irrelevant    172\n",
       "Name: count, dtype: int64"
      ]
     },
     "execution_count": 9,
     "metadata": {},
     "output_type": "execute_result"
    }
   ],
   "source": [
    "test.Category.value_counts()"
   ]
  },
  {
   "cell_type": "code",
   "execution_count": 10,
   "metadata": {},
   "outputs": [],
   "source": [
    "train = train.dropna()\n",
    "test = test.dropna()"
   ]
  },
  {
   "cell_type": "code",
   "execution_count": 11,
   "metadata": {},
   "outputs": [
    {
     "data": {
      "text/plain": [
       "1000"
      ]
     },
     "execution_count": 11,
     "metadata": {},
     "output_type": "execute_result"
    }
   ],
   "source": [
    "len(train)\n",
    "len(test)"
   ]
  },
  {
   "cell_type": "code",
   "execution_count": 12,
   "metadata": {},
   "outputs": [
    {
     "data": {
      "text/plain": [
       "id          0\n",
       "unknown     0\n",
       "Category    0\n",
       "Text        0\n",
       "dtype: int64"
      ]
     },
     "execution_count": 12,
     "metadata": {},
     "output_type": "execute_result"
    }
   ],
   "source": [
    "train.isna().sum()"
   ]
  },
  {
   "cell_type": "code",
   "execution_count": 30,
   "metadata": {},
   "outputs": [],
   "source": [
    "train_df = train.sample(n=6000, random_state=42)\n",
    "test_df = test.sample(n=750, random_state=42)"
   ]
  },
  {
   "cell_type": "code",
   "execution_count": 31,
   "metadata": {},
   "outputs": [
    {
     "data": {
      "text/html": [
       "<div>\n",
       "<style scoped>\n",
       "    .dataframe tbody tr th:only-of-type {\n",
       "        vertical-align: middle;\n",
       "    }\n",
       "\n",
       "    .dataframe tbody tr th {\n",
       "        vertical-align: top;\n",
       "    }\n",
       "\n",
       "    .dataframe thead th {\n",
       "        text-align: right;\n",
       "    }\n",
       "</style>\n",
       "<table border=\"1\" class=\"dataframe\">\n",
       "  <thead>\n",
       "    <tr style=\"text-align: right;\">\n",
       "      <th></th>\n",
       "      <th>id</th>\n",
       "      <th>unknown</th>\n",
       "      <th>Category</th>\n",
       "      <th>Text</th>\n",
       "    </tr>\n",
       "  </thead>\n",
       "  <tbody>\n",
       "    <tr>\n",
       "      <th>61413</th>\n",
       "      <td>4926</td>\n",
       "      <td>GrandTheftAuto(GTA)</td>\n",
       "      <td>Irrelevant</td>\n",
       "      <td>Looks to me like he failed to check out the wa...</td>\n",
       "    </tr>\n",
       "    <tr>\n",
       "      <th>44887</th>\n",
       "      <td>11709</td>\n",
       "      <td>Verizon</td>\n",
       "      <td>Irrelevant</td>\n",
       "      <td>Wow, it takes all sorts of crazy people out th...</td>\n",
       "    </tr>\n",
       "    <tr>\n",
       "      <th>73662</th>\n",
       "      <td>9020</td>\n",
       "      <td>Nvidia</td>\n",
       "      <td>Neutral</td>\n",
       "      <td>Nvidia Unveils The World’s Fastest Gaming Moni...</td>\n",
       "    </tr>\n",
       "    <tr>\n",
       "      <th>36694</th>\n",
       "      <td>8295</td>\n",
       "      <td>Microsoft</td>\n",
       "      <td>Neutral</td>\n",
       "      <td>Huge radio play here. Reinvention / Corporate ...</td>\n",
       "    </tr>\n",
       "    <tr>\n",
       "      <th>2308</th>\n",
       "      <td>1604</td>\n",
       "      <td>CallOfDutyBlackopsColdWar</td>\n",
       "      <td>Negative</td>\n",
       "      <td>SO I HAPPY WHO ABOUT THIS.</td>\n",
       "    </tr>\n",
       "    <tr>\n",
       "      <th>...</th>\n",
       "      <td>...</td>\n",
       "      <td>...</td>\n",
       "      <td>...</td>\n",
       "      <td>...</td>\n",
       "    </tr>\n",
       "    <tr>\n",
       "      <th>11683</th>\n",
       "      <td>8408</td>\n",
       "      <td>NBA2K</td>\n",
       "      <td>Negative</td>\n",
       "      <td>2k games are never the same again.</td>\n",
       "    </tr>\n",
       "    <tr>\n",
       "      <th>30761</th>\n",
       "      <td>7284</td>\n",
       "      <td>LeagueOfLegends</td>\n",
       "      <td>Neutral</td>\n",
       "      <td>Check Back my video!</td>\n",
       "    </tr>\n",
       "    <tr>\n",
       "      <th>45375</th>\n",
       "      <td>11790</td>\n",
       "      <td>Verizon</td>\n",
       "      <td>Neutral</td>\n",
       "      <td>Verizon told US drop ‘most powerful 5G’ claim ...</td>\n",
       "    </tr>\n",
       "    <tr>\n",
       "      <th>20093</th>\n",
       "      <td>12639</td>\n",
       "      <td>WorldOfCraft</td>\n",
       "      <td>Neutral</td>\n",
       "      <td>me just earned the [1000 Honorable Kills] Achi...</td>\n",
       "    </tr>\n",
       "    <tr>\n",
       "      <th>61836</th>\n",
       "      <td>5001</td>\n",
       "      <td>GrandTheftAuto(GTA)</td>\n",
       "      <td>Irrelevant</td>\n",
       "      <td>This kid is so bad at GTA it makes me wanna ha...</td>\n",
       "    </tr>\n",
       "  </tbody>\n",
       "</table>\n",
       "<p>6000 rows × 4 columns</p>\n",
       "</div>"
      ],
      "text/plain": [
       "          id                    unknown    Category  \\\n",
       "61413   4926        GrandTheftAuto(GTA)  Irrelevant   \n",
       "44887  11709                    Verizon  Irrelevant   \n",
       "73662   9020                     Nvidia     Neutral   \n",
       "36694   8295                  Microsoft     Neutral   \n",
       "2308    1604  CallOfDutyBlackopsColdWar    Negative   \n",
       "...      ...                        ...         ...   \n",
       "11683   8408                      NBA2K    Negative   \n",
       "30761   7284            LeagueOfLegends     Neutral   \n",
       "45375  11790                    Verizon     Neutral   \n",
       "20093  12639               WorldOfCraft     Neutral   \n",
       "61836   5001        GrandTheftAuto(GTA)  Irrelevant   \n",
       "\n",
       "                                                    Text  \n",
       "61413  Looks to me like he failed to check out the wa...  \n",
       "44887  Wow, it takes all sorts of crazy people out th...  \n",
       "73662  Nvidia Unveils The World’s Fastest Gaming Moni...  \n",
       "36694  Huge radio play here. Reinvention / Corporate ...  \n",
       "2308                          SO I HAPPY WHO ABOUT THIS.  \n",
       "...                                                  ...  \n",
       "11683                 2k games are never the same again.  \n",
       "30761                               Check Back my video!  \n",
       "45375  Verizon told US drop ‘most powerful 5G’ claim ...  \n",
       "20093  me just earned the [1000 Honorable Kills] Achi...  \n",
       "61836  This kid is so bad at GTA it makes me wanna ha...  \n",
       "\n",
       "[6000 rows x 4 columns]"
      ]
     },
     "execution_count": 31,
     "metadata": {},
     "output_type": "execute_result"
    }
   ],
   "source": [
    "train_df"
   ]
  },
  {
   "cell_type": "code",
   "execution_count": 32,
   "metadata": {},
   "outputs": [],
   "source": [
    "from sklearn.preprocessing import LabelEncoder\n",
    "# Initialize LabelEncoder\n",
    "label_encoder = LabelEncoder()\n",
    "\n",
    "# Apply LabelEncoder to the 'Category' column\n",
    "train_df['Category'] = label_encoder.fit_transform(train_df['Category'])\n",
    "test_df['Category'] = label_encoder.transform(test_df['Category'])"
   ]
  },
  {
   "cell_type": "code",
   "execution_count": 35,
   "metadata": {},
   "outputs": [
    {
     "data": {
      "text/html": [
       "<div>\n",
       "<style scoped>\n",
       "    .dataframe tbody tr th:only-of-type {\n",
       "        vertical-align: middle;\n",
       "    }\n",
       "\n",
       "    .dataframe tbody tr th {\n",
       "        vertical-align: top;\n",
       "    }\n",
       "\n",
       "    .dataframe thead th {\n",
       "        text-align: right;\n",
       "    }\n",
       "</style>\n",
       "<table border=\"1\" class=\"dataframe\">\n",
       "  <thead>\n",
       "    <tr style=\"text-align: right;\">\n",
       "      <th></th>\n",
       "      <th>id</th>\n",
       "      <th>unknown</th>\n",
       "      <th>Category</th>\n",
       "      <th>Text</th>\n",
       "    </tr>\n",
       "  </thead>\n",
       "  <tbody>\n",
       "    <tr>\n",
       "      <th>61413</th>\n",
       "      <td>4926</td>\n",
       "      <td>GrandTheftAuto(GTA)</td>\n",
       "      <td>0</td>\n",
       "      <td>Looks to me like he failed to check out the wa...</td>\n",
       "    </tr>\n",
       "    <tr>\n",
       "      <th>44887</th>\n",
       "      <td>11709</td>\n",
       "      <td>Verizon</td>\n",
       "      <td>0</td>\n",
       "      <td>Wow, it takes all sorts of crazy people out th...</td>\n",
       "    </tr>\n",
       "    <tr>\n",
       "      <th>73662</th>\n",
       "      <td>9020</td>\n",
       "      <td>Nvidia</td>\n",
       "      <td>2</td>\n",
       "      <td>Nvidia Unveils The World’s Fastest Gaming Moni...</td>\n",
       "    </tr>\n",
       "    <tr>\n",
       "      <th>36694</th>\n",
       "      <td>8295</td>\n",
       "      <td>Microsoft</td>\n",
       "      <td>2</td>\n",
       "      <td>Huge radio play here. Reinvention / Corporate ...</td>\n",
       "    </tr>\n",
       "    <tr>\n",
       "      <th>2308</th>\n",
       "      <td>1604</td>\n",
       "      <td>CallOfDutyBlackopsColdWar</td>\n",
       "      <td>1</td>\n",
       "      <td>SO I HAPPY WHO ABOUT THIS.</td>\n",
       "    </tr>\n",
       "    <tr>\n",
       "      <th>...</th>\n",
       "      <td>...</td>\n",
       "      <td>...</td>\n",
       "      <td>...</td>\n",
       "      <td>...</td>\n",
       "    </tr>\n",
       "    <tr>\n",
       "      <th>11683</th>\n",
       "      <td>8408</td>\n",
       "      <td>NBA2K</td>\n",
       "      <td>1</td>\n",
       "      <td>2k games are never the same again.</td>\n",
       "    </tr>\n",
       "    <tr>\n",
       "      <th>30761</th>\n",
       "      <td>7284</td>\n",
       "      <td>LeagueOfLegends</td>\n",
       "      <td>2</td>\n",
       "      <td>Check Back my video!</td>\n",
       "    </tr>\n",
       "    <tr>\n",
       "      <th>45375</th>\n",
       "      <td>11790</td>\n",
       "      <td>Verizon</td>\n",
       "      <td>2</td>\n",
       "      <td>Verizon told US drop ‘most powerful 5G’ claim ...</td>\n",
       "    </tr>\n",
       "    <tr>\n",
       "      <th>20093</th>\n",
       "      <td>12639</td>\n",
       "      <td>WorldOfCraft</td>\n",
       "      <td>2</td>\n",
       "      <td>me just earned the [1000 Honorable Kills] Achi...</td>\n",
       "    </tr>\n",
       "    <tr>\n",
       "      <th>61836</th>\n",
       "      <td>5001</td>\n",
       "      <td>GrandTheftAuto(GTA)</td>\n",
       "      <td>0</td>\n",
       "      <td>This kid is so bad at GTA it makes me wanna ha...</td>\n",
       "    </tr>\n",
       "  </tbody>\n",
       "</table>\n",
       "<p>6000 rows × 4 columns</p>\n",
       "</div>"
      ],
      "text/plain": [
       "          id                    unknown  Category  \\\n",
       "61413   4926        GrandTheftAuto(GTA)         0   \n",
       "44887  11709                    Verizon         0   \n",
       "73662   9020                     Nvidia         2   \n",
       "36694   8295                  Microsoft         2   \n",
       "2308    1604  CallOfDutyBlackopsColdWar         1   \n",
       "...      ...                        ...       ...   \n",
       "11683   8408                      NBA2K         1   \n",
       "30761   7284            LeagueOfLegends         2   \n",
       "45375  11790                    Verizon         2   \n",
       "20093  12639               WorldOfCraft         2   \n",
       "61836   5001        GrandTheftAuto(GTA)         0   \n",
       "\n",
       "                                                    Text  \n",
       "61413  Looks to me like he failed to check out the wa...  \n",
       "44887  Wow, it takes all sorts of crazy people out th...  \n",
       "73662  Nvidia Unveils The World’s Fastest Gaming Moni...  \n",
       "36694  Huge radio play here. Reinvention / Corporate ...  \n",
       "2308                          SO I HAPPY WHO ABOUT THIS.  \n",
       "...                                                  ...  \n",
       "11683                 2k games are never the same again.  \n",
       "30761                               Check Back my video!  \n",
       "45375  Verizon told US drop ‘most powerful 5G’ claim ...  \n",
       "20093  me just earned the [1000 Honorable Kills] Achi...  \n",
       "61836  This kid is so bad at GTA it makes me wanna ha...  \n",
       "\n",
       "[6000 rows x 4 columns]"
      ]
     },
     "execution_count": 35,
     "metadata": {},
     "output_type": "execute_result"
    }
   ],
   "source": [
    "train_df"
   ]
  },
  {
   "cell_type": "code",
   "execution_count": 51,
   "metadata": {},
   "outputs": [],
   "source": [
    "import dill\n",
    "preprocessor_obj_filepath = os.path.join('artifacts',\"preprocessor.pkl\")\n",
    "def save_object(file_path, obj):\n",
    "    try:\n",
    "        dir_path =os.path.dirname(file_path)\n",
    "        os.makedirs(dir_path, exist_ok=True)\n",
    "        \n",
    "        with open(file_path,\"wb\") as file_obj:\n",
    "            dill.dump(obj, file_obj)\n",
    "            \n",
    "    except Exception as e:\n",
    "        print(e)\n",
    "        \n",
    "save_object(preprocessor_obj_filepath,label_encoder)"
   ]
  },
  {
   "cell_type": "code",
   "execution_count": 4,
   "metadata": {},
   "outputs": [
    {
     "name": "stdout",
     "output_type": "stream",
     "text": [
      "Current Directory: d:\\SL\\End to End Projects\\Text classification\\notebooks\n"
     ]
    }
   ],
   "source": [
    "import os\n",
    "\n",
    "current_directory = os.getcwd()\n",
    "print(f\"Current Directory: {current_directory}\")\n"
   ]
  },
  {
   "cell_type": "code",
   "execution_count": 1,
   "metadata": {},
   "outputs": [
    {
     "name": "stderr",
     "output_type": "stream",
     "text": [
      "c:\\Users\\sumai\\AppData\\Local\\Programs\\Python\\Python311\\Lib\\site-packages\\sklearn\\base.py:376: InconsistentVersionWarning: Trying to unpickle estimator LabelEncoder from version 1.5.0 when using version 1.4.1.post1. This might lead to breaking code or invalid results. Use at your own risk. For more info please refer to:\n",
      "https://scikit-learn.org/stable/model_persistence.html#security-maintainability-limitations\n",
      "  warnings.warn(\n"
     ]
    }
   ],
   "source": [
    "import dill\n",
    "import os\n",
    "def load_object(file_path):\n",
    "    try:\n",
    "        with open(file_path, \"rb\") as file_obj:\n",
    "            return dill.load(file_obj)\n",
    "    except Exception as e:\n",
    "        print(e)\n",
    "\n",
    "preprocessor_obj_filepath = os.path.join('artifacts','preprocessor', \"preprocessor.pkl\")\n",
    "label_encoder = load_object(preprocessor_obj_filepath)\n"
   ]
  },
  {
   "cell_type": "code",
   "execution_count": 2,
   "metadata": {},
   "outputs": [
    {
     "name": "stdout",
     "output_type": "stream",
     "text": [
      "Encoded category for 'Irrelevant': 0\n"
     ]
    }
   ],
   "source": [
    "input_category = 'Irrelevant'\n",
    "\n",
    "# Transform the input category using the loaded label encoder\n",
    "encoded_category = label_encoder.transform([input_category])[0]\n",
    "\n",
    "print(f\"Encoded category for '{input_category}': {encoded_category}\")"
   ]
  },
  {
   "cell_type": "code",
   "execution_count": 6,
   "metadata": {},
   "outputs": [
    {
     "name": "stdout",
     "output_type": "stream",
     "text": [
      "Original category for encoded value '3': Positive\n"
     ]
    }
   ],
   "source": [
    "# Example encoded category value\n",
    "encoded_category = 3\n",
    "\n",
    "# Decode the encoded category using the loaded label encoder\n",
    "original_category = label_encoder.inverse_transform([encoded_category])[0]\n",
    "\n",
    "print(f\"Original category for encoded value '{encoded_category}': {original_category}\")"
   ]
  },
  {
   "cell_type": "code",
   "execution_count": 10,
   "metadata": {},
   "outputs": [],
   "source": [
    "train_texts = train_df['Text'].astype(str).values.tolist()\n",
    "train_labels = train_df['Category'].values.tolist()\n",
    "test_texts = test_df['Text'].astype(str).values.tolist()"
   ]
  },
  {
   "cell_type": "code",
   "execution_count": null,
   "metadata": {},
   "outputs": [],
   "source": []
  },
  {
   "cell_type": "code",
   "execution_count": 11,
   "metadata": {},
   "outputs": [],
   "source": [
    "from sklearn.model_selection import train_test_split\n",
    "train_texts, val_texts, train_labels, val_labels = train_test_split(train_texts, train_labels, test_size=.2,random_state=42,stratify=train_labels)"
   ]
  },
  {
   "cell_type": "code",
   "execution_count": 39,
   "metadata": {},
   "outputs": [],
   "source": [
    "import torch\n",
    "from torch.utils.data import Dataset\n",
    "from transformers import DistilBertTokenizerFast,DistilBertForSequenceClassification\n",
    "from transformers import Trainer,TrainingArguments"
   ]
  },
  {
   "cell_type": "code",
   "execution_count": 13,
   "metadata": {},
   "outputs": [],
   "source": [
    "model_name  = 'distilbert/distilbert-base-uncased'\n"
   ]
  },
  {
   "cell_type": "code",
   "execution_count": 14,
   "metadata": {},
   "outputs": [],
   "source": [
    "tokenizer = DistilBertTokenizerFast.from_pretrained('distilbert/distilbert-base-uncased',num_labels=4)"
   ]
  },
  {
   "cell_type": "code",
   "execution_count": 15,
   "metadata": {},
   "outputs": [],
   "source": [
    "train_encodings = tokenizer(train_texts, truncation=True, padding=True,return_tensors = 'pt')\n",
    "val_encodings = tokenizer(val_texts, truncation=True, padding=True,return_tensors = 'pt')\n",
    "test_encodings = tokenizer(test_texts, truncation=True, padding=True,return_tensors = 'pt')"
   ]
  },
  {
   "cell_type": "code",
   "execution_count": 16,
   "metadata": {},
   "outputs": [],
   "source": [
    "class SentimentDataset(torch.utils.data.Dataset):\n",
    "    def __init__(self, encodings, labels):\n",
    "        self.encodings = encodings\n",
    "        self.labels = labels\n",
    "\n",
    "    def __getitem__(self, idx):\n",
    "        item = {key: torch.tensor(val[idx]) for key, val in self.encodings.items()}\n",
    "        item['labels'] = torch.tensor(self.labels[idx])\n",
    "        return item\n",
    "\n",
    "    def __len__(self):\n",
    "        return len(self.labels)\n",
    "## Test Dataset\n",
    "class SentimentTestDataset(torch.utils.data.Dataset):\n",
    "    def __init__(self, encodings):\n",
    "        self.encodings = encodings\n",
    "\n",
    "    def __getitem__(self, idx):\n",
    "        item = {key: torch.tensor(val[idx]) for key, val in self.encodings.items()}\n",
    "        return item\n",
    "    def __len__(self):\n",
    "        return len(self.encodings)"
   ]
  },
  {
   "cell_type": "code",
   "execution_count": 17,
   "metadata": {},
   "outputs": [],
   "source": [
    "train_dataset = SentimentDataset(train_encodings, train_labels)\n",
    "val_dataset = SentimentDataset(val_encodings, val_labels)\n",
    "test_dataset = SentimentTestDataset(test_encodings)"
   ]
  },
  {
   "cell_type": "code",
   "execution_count": 18,
   "metadata": {},
   "outputs": [],
   "source": [
    "from sklearn.metrics import accuracy_score, f1_score\n",
    "def compute_metrics(p):\n",
    "    pred, labels = p\n",
    "    pred = np.argmax(pred, axis=1)\n",
    "\n",
    "    accuracy = accuracy_score(y_true=labels, y_pred=pred)\n",
    "    #recall = recall_score(y_true=labels, y_pred=pred)\n",
    "    #precision = precision_score(y_true=labels, y_pred=pred)\n",
    "    f1 = f1_score(labels, pred, average='weighted')\n",
    "\n",
    "    return {\"accuracy\": accuracy,\"f1_score\":f1}"
   ]
  },
  {
   "cell_type": "code",
   "execution_count": 19,
   "metadata": {},
   "outputs": [
    {
     "name": "stderr",
     "output_type": "stream",
     "text": [
      "Using the `WANDB_DISABLED` environment variable is deprecated and will be removed in v5. Use the --report_to flag to control the integrations used for logging result (for instance --report_to none).\n"
     ]
    }
   ],
   "source": [
    "training_args = TrainingArguments(\n",
    "    output_dir='results',          # output directory\n",
    "    evaluation_strategy=\"steps\",\n",
    "    num_train_epochs=2,              # total number of training epochs\n",
    "    per_device_train_batch_size=32,  # batch size per device during training\n",
    "    per_device_eval_batch_size=64,   # batch size for evaluation\n",
    "    warmup_steps=500,                # number of warmup steps for learning rate scheduler\n",
    "    weight_decay=0.01,               # strength of weight decay\n",
    "    logging_dir='./logs4',            # directory for storing logs\n",
    "    #logging_steps=10,\n",
    "    load_best_model_at_end=True,\n",
    ")"
   ]
  },
  {
   "cell_type": "code",
   "execution_count": 20,
   "metadata": {},
   "outputs": [
    {
     "name": "stderr",
     "output_type": "stream",
     "text": [
      "Some weights of DistilBertForSequenceClassification were not initialized from the model checkpoint at distilbert/distilbert-base-uncased and are newly initialized: ['classifier.bias', 'classifier.weight', 'pre_classifier.bias', 'pre_classifier.weight']\n",
      "You should probably TRAIN this model on a down-stream task to be able to use it for predictions and inference.\n"
     ]
    },
    {
     "data": {
      "application/vnd.jupyter.widget-view+json": {
       "model_id": "edef76c5a437490494ba5c40e4f3ce12",
       "version_major": 2,
       "version_minor": 0
      },
      "text/plain": [
       "  0%|          | 0/300 [00:00<?, ?it/s]"
      ]
     },
     "metadata": {},
     "output_type": "display_data"
    },
    {
     "name": "stdout",
     "output_type": "stream",
     "text": [
      "{'train_runtime': 2736.5464, 'train_samples_per_second': 3.508, 'train_steps_per_second': 0.11, 'train_loss': 1.2173590087890624, 'epoch': 2.0}\n"
     ]
    },
    {
     "data": {
      "text/plain": [
       "TrainOutput(global_step=300, training_loss=1.2173590087890624, metrics={'train_runtime': 2736.5464, 'train_samples_per_second': 3.508, 'train_steps_per_second': 0.11, 'total_flos': 501738167347200.0, 'train_loss': 1.2173590087890624, 'epoch': 2.0})"
      ]
     },
     "execution_count": 20,
     "metadata": {},
     "output_type": "execute_result"
    }
   ],
   "source": [
    "model = DistilBertForSequenceClassification.from_pretrained(model_name,num_labels=4)\n",
    "\n",
    "trainer = Trainer(\n",
    "    model=model,# the instantiated 🤗 Transformers model to be trained\n",
    "    args=training_args, # training arguments, defined above\n",
    "    train_dataset=train_dataset,# training dataset\n",
    "    eval_dataset=val_dataset , # evaluation dataset\n",
    "    compute_metrics=compute_metrics,\n",
    ")\n",
    "\n",
    "trainer.train()"
   ]
  },
  {
   "cell_type": "code",
   "execution_count": 21,
   "metadata": {},
   "outputs": [
    {
     "data": {
      "application/vnd.jupyter.widget-view+json": {
       "model_id": "9dae1ecdf7ff44ceb8f9210d870e62a1",
       "version_major": 2,
       "version_minor": 0
      },
      "text/plain": [
       "  0%|          | 0/19 [00:00<?, ?it/s]"
      ]
     },
     "metadata": {},
     "output_type": "display_data"
    },
    {
     "data": {
      "text/plain": [
       "{'eval_loss': 1.0295817852020264,\n",
       " 'eval_accuracy': 0.5733333333333334,\n",
       " 'eval_f1_score': 0.5292642695398562,\n",
       " 'eval_runtime': 100.9893,\n",
       " 'eval_samples_per_second': 11.882,\n",
       " 'eval_steps_per_second': 0.188,\n",
       " 'epoch': 2.0}"
      ]
     },
     "execution_count": 21,
     "metadata": {},
     "output_type": "execute_result"
    }
   ],
   "source": [
    "trainer.evaluate()\n"
   ]
  },
  {
   "cell_type": "code",
   "execution_count": 22,
   "metadata": {},
   "outputs": [
    {
     "data": {
      "application/vnd.jupyter.widget-view+json": {
       "model_id": "73a2fb476e37419fb08b6ff08ccb7ae3",
       "version_major": 2,
       "version_minor": 0
      },
      "text/plain": [
       "  0%|          | 0/12 [00:00<?, ?it/s]"
      ]
     },
     "metadata": {},
     "output_type": "display_data"
    }
   ],
   "source": [
    "test_df['Category'] = 0\n",
    "test_texts = test_df['Text'].values.tolist()\n",
    "test_labels = test_df['Category'].values.tolist() \n",
    "test_encodings = tokenizer(test_texts, truncation=True, padding=True,return_tensors = 'pt')\n",
    "test_dataset = SentimentDataset(test_encodings, test_labels)\n",
    "preds = trainer.predict(test_dataset=test_dataset)"
   ]
  },
  {
   "cell_type": "code",
   "execution_count": 23,
   "metadata": {},
   "outputs": [],
   "source": [
    "probs = torch.from_numpy(preds[0]).softmax(1)\n",
    "\n",
    "predictions = probs.numpy()# convert tensors to numpy array"
   ]
  },
  {
   "cell_type": "code",
   "execution_count": 24,
   "metadata": {},
   "outputs": [
    {
     "data": {
      "text/html": [
       "<div>\n",
       "<style scoped>\n",
       "    .dataframe tbody tr th:only-of-type {\n",
       "        vertical-align: middle;\n",
       "    }\n",
       "\n",
       "    .dataframe tbody tr th {\n",
       "        vertical-align: top;\n",
       "    }\n",
       "\n",
       "    .dataframe thead th {\n",
       "        text-align: right;\n",
       "    }\n",
       "</style>\n",
       "<table border=\"1\" class=\"dataframe\">\n",
       "  <thead>\n",
       "    <tr style=\"text-align: right;\">\n",
       "      <th></th>\n",
       "      <th>Neutral</th>\n",
       "      <th>Positive</th>\n",
       "      <th>Negative</th>\n",
       "      <th>Irrelevant</th>\n",
       "    </tr>\n",
       "  </thead>\n",
       "  <tbody>\n",
       "    <tr>\n",
       "      <th>0</th>\n",
       "      <td>0.071103</td>\n",
       "      <td>0.402284</td>\n",
       "      <td>0.453506</td>\n",
       "      <td>0.073107</td>\n",
       "    </tr>\n",
       "    <tr>\n",
       "      <th>1</th>\n",
       "      <td>0.098287</td>\n",
       "      <td>0.081230</td>\n",
       "      <td>0.099100</td>\n",
       "      <td>0.721382</td>\n",
       "    </tr>\n",
       "    <tr>\n",
       "      <th>2</th>\n",
       "      <td>0.077792</td>\n",
       "      <td>0.262090</td>\n",
       "      <td>0.606484</td>\n",
       "      <td>0.053634</td>\n",
       "    </tr>\n",
       "    <tr>\n",
       "      <th>3</th>\n",
       "      <td>0.200256</td>\n",
       "      <td>0.082093</td>\n",
       "      <td>0.157054</td>\n",
       "      <td>0.560596</td>\n",
       "    </tr>\n",
       "    <tr>\n",
       "      <th>4</th>\n",
       "      <td>0.116955</td>\n",
       "      <td>0.118665</td>\n",
       "      <td>0.692668</td>\n",
       "      <td>0.071711</td>\n",
       "    </tr>\n",
       "  </tbody>\n",
       "</table>\n",
       "</div>"
      ],
      "text/plain": [
       "    Neutral  Positive  Negative  Irrelevant\n",
       "0  0.071103  0.402284  0.453506    0.073107\n",
       "1  0.098287  0.081230  0.099100    0.721382\n",
       "2  0.077792  0.262090  0.606484    0.053634\n",
       "3  0.200256  0.082093  0.157054    0.560596\n",
       "4  0.116955  0.118665  0.692668    0.071711"
      ]
     },
     "execution_count": 24,
     "metadata": {},
     "output_type": "execute_result"
    }
   ],
   "source": [
    "newdf = pd.DataFrame(predictions,columns=['Neutral','Positive','Negative','Irrelevant'])\n",
    "newdf.head()\n"
   ]
  },
  {
   "cell_type": "code",
   "execution_count": 25,
   "metadata": {},
   "outputs": [
    {
     "data": {
      "text/html": [
       "<div>\n",
       "<style scoped>\n",
       "    .dataframe tbody tr th:only-of-type {\n",
       "        vertical-align: middle;\n",
       "    }\n",
       "\n",
       "    .dataframe tbody tr th {\n",
       "        vertical-align: top;\n",
       "    }\n",
       "\n",
       "    .dataframe thead th {\n",
       "        text-align: right;\n",
       "    }\n",
       "</style>\n",
       "<table border=\"1\" class=\"dataframe\">\n",
       "  <thead>\n",
       "    <tr style=\"text-align: right;\">\n",
       "      <th></th>\n",
       "      <th>id</th>\n",
       "      <th>unknown</th>\n",
       "      <th>Category</th>\n",
       "      <th>Text</th>\n",
       "      <th>Sentiment</th>\n",
       "      <th>predicted</th>\n",
       "    </tr>\n",
       "  </thead>\n",
       "  <tbody>\n",
       "    <tr>\n",
       "      <th>521</th>\n",
       "      <td>11656</td>\n",
       "      <td>Verizon</td>\n",
       "      <td>0</td>\n",
       "      <td>Remote working and an increase in cloud-based ...</td>\n",
       "      <td>2</td>\n",
       "      <td>Negative</td>\n",
       "    </tr>\n",
       "    <tr>\n",
       "      <th>737</th>\n",
       "      <td>9769</td>\n",
       "      <td>PlayStation5(PS5)</td>\n",
       "      <td>0</td>\n",
       "      <td>I actually quite like the design of the ps5. I...</td>\n",
       "      <td>3</td>\n",
       "      <td>Irrelevant</td>\n",
       "    </tr>\n",
       "    <tr>\n",
       "      <th>740</th>\n",
       "      <td>7021</td>\n",
       "      <td>johnson&amp;johnson</td>\n",
       "      <td>0</td>\n",
       "      <td>New York charges Johnson &amp; Johnson with insura...</td>\n",
       "      <td>2</td>\n",
       "      <td>Negative</td>\n",
       "    </tr>\n",
       "    <tr>\n",
       "      <th>660</th>\n",
       "      <td>2567</td>\n",
       "      <td>Borderlands</td>\n",
       "      <td>0</td>\n",
       "      <td>Chris loves me in borderlands one and two.</td>\n",
       "      <td>3</td>\n",
       "      <td>Irrelevant</td>\n",
       "    </tr>\n",
       "    <tr>\n",
       "      <th>411</th>\n",
       "      <td>7463</td>\n",
       "      <td>LeagueOfLegends</td>\n",
       "      <td>0</td>\n",
       "      <td>Check out my video! #LeagueofLegends | Capture...</td>\n",
       "      <td>2</td>\n",
       "      <td>Negative</td>\n",
       "    </tr>\n",
       "  </tbody>\n",
       "</table>\n",
       "</div>"
      ],
      "text/plain": [
       "        id            unknown  Category  \\\n",
       "521  11656            Verizon         0   \n",
       "737   9769  PlayStation5(PS5)         0   \n",
       "740   7021    johnson&johnson         0   \n",
       "660   2567        Borderlands         0   \n",
       "411   7463    LeagueOfLegends         0   \n",
       "\n",
       "                                                  Text  Sentiment   predicted  \n",
       "521  Remote working and an increase in cloud-based ...          2    Negative  \n",
       "737  I actually quite like the design of the ps5. I...          3  Irrelevant  \n",
       "740  New York charges Johnson & Johnson with insura...          2    Negative  \n",
       "660         Chris loves me in borderlands one and two.          3  Irrelevant  \n",
       "411  Check out my video! #LeagueofLegends | Capture...          2    Negative  "
      ]
     },
     "execution_count": 25,
     "metadata": {},
     "output_type": "execute_result"
    }
   ],
   "source": [
    "def labels(x):\n",
    "  if x == 0:\n",
    "    return 'Neutral'\n",
    "  elif x == 1:\n",
    "    return 'Positive'\n",
    "  elif x == 2:\n",
    "    return 'Negative'\n",
    "  else:\n",
    "    return 'Irrelevant'\n",
    "\n",
    "results = np.argmax(predictions,axis=1)\n",
    "test_df['Sentiment'] = results\n",
    "test_df['predicted'] = test_df['Sentiment'].map(labels)\n",
    "test_df.head()"
   ]
  },
  {
   "cell_type": "code",
   "execution_count": 37,
   "metadata": {},
   "outputs": [],
   "source": [
    "model_path = 'artifacts\\model'\n",
    "# trainer.save_model(model_path)\n",
    "# tokenizer.save_pretrained(model_path)"
   ]
  },
  {
   "cell_type": "code",
   "execution_count": 40,
   "metadata": {},
   "outputs": [],
   "source": [
    "model = DistilBertForSequenceClassification.from_pretrained(model_path)\n",
    "tokenizer = DistilBertTokenizerFast.from_pretrained(model_path)\n"
   ]
  },
  {
   "cell_type": "code",
   "execution_count": 36,
   "metadata": {},
   "outputs": [],
   "source": [
    "train_df.reset_index(inplace=True)"
   ]
  },
  {
   "cell_type": "code",
   "execution_count": 54,
   "metadata": {},
   "outputs": [
    {
     "data": {
      "text/plain": [
       "'I actually quite like the design of the ps5. It truly feels like the next generation of a console rather than just being a bulkier box with more power'"
      ]
     },
     "execution_count": 54,
     "metadata": {},
     "output_type": "execute_result"
    }
   ],
   "source": [
    "test_df['Text'][737]"
   ]
  },
  {
   "cell_type": "code",
   "execution_count": 47,
   "metadata": {},
   "outputs": [],
   "source": [
    "from transformers import pipeline\n",
    "nlp = pipeline('sentiment-analysis', model=model,tokenizer=tokenizer)\n",
    "res=nlp(test_df['Text'][737])"
   ]
  },
  {
   "cell_type": "code",
   "execution_count": 48,
   "metadata": {},
   "outputs": [
    {
     "data": {
      "text/plain": [
       "[{'label': 'LABEL_3', 'score': 0.7213824391365051}]"
      ]
     },
     "execution_count": 48,
     "metadata": {},
     "output_type": "execute_result"
    }
   ],
   "source": [
    "res"
   ]
  },
  {
   "cell_type": "code",
   "execution_count": 51,
   "metadata": {},
   "outputs": [
    {
     "name": "stdout",
     "output_type": "stream",
     "text": [
      "[{'label': 3, 'score': 0.7213824391365051}]\n"
     ]
    }
   ],
   "source": [
    "# Define the mapping dictionary\n",
    "label_mapping = {\n",
    "    'LABEL_0': 0,\n",
    "    'LABEL_1': 1,\n",
    "    'LABEL_2': 2,\n",
    "    'LABEL_3': 3\n",
    "}\n",
    "\n",
    "# Iterate through the list and update the 'label' value\n",
    "for item in res:\n",
    "    item['label'] = label_mapping[item['label']]\n",
    "\n",
    "print(res)"
   ]
  },
  {
   "cell_type": "code",
   "execution_count": 53,
   "metadata": {},
   "outputs": [
    {
     "name": "stdout",
     "output_type": "stream",
     "text": [
      "{'result': 'Positive', 'score': 0.7213824391365051}\n"
     ]
    }
   ],
   "source": [
    "# Example encoded category value\n",
    "encoded_category = res[0]['label']\n",
    "\n",
    "score = res[0]['score']\n",
    "# Decode the encoded category using the loaded label encoder\n",
    "original_category = label_encoder.inverse_transform([encoded_category])[0]\n",
    "\n",
    "# Create a dictionary containing the original category and the score\n",
    "result_dict = {\"result\": original_category, \"score\": score}\n",
    "\n",
    "print(result_dict)"
   ]
  },
  {
   "cell_type": "code",
   "execution_count": null,
   "metadata": {},
   "outputs": [],
   "source": []
  },
  {
   "cell_type": "code",
   "execution_count": null,
   "metadata": {},
   "outputs": [],
   "source": [
    "model = model\n",
    "model = torch.load(PATH)\n"
   ]
  },
  {
   "cell_type": "code",
   "execution_count": null,
   "metadata": {},
   "outputs": [],
   "source": [
    "test_df['Category'] = 0\n",
    "test_texts = test_df['Text'].values.tolist()\n",
    "test_labels = test_df['Category'].values.tolist() \n",
    "test_encodings = tokenizer(test_texts, truncation=True, padding=True,return_tensors = 'pt')\n",
    "test_dataset = SentimentDataset(test_encodings, test_labels)\n",
    "preds = model.predict(test_dataset=test_dataset)"
   ]
  },
  {
   "cell_type": "code",
   "execution_count": null,
   "metadata": {},
   "outputs": [],
   "source": [
    "test_encodings = tokenizer(test_texts[0], truncation=True, padding=True,return_tensors = 'pt')\n"
   ]
  },
  {
   "cell_type": "code",
   "execution_count": null,
   "metadata": {},
   "outputs": [],
   "source": [
    "test_dataset = SentimentTestDataset(test_encodings)"
   ]
  },
  {
   "cell_type": "code",
   "execution_count": null,
   "metadata": {},
   "outputs": [],
   "source": [
    "test_dataset"
   ]
  },
  {
   "cell_type": "code",
   "execution_count": null,
   "metadata": {},
   "outputs": [],
   "source": [
    "trainer.predict(test_dataset)"
   ]
  }
 ],
 "metadata": {
  "kernelspec": {
   "display_name": "Python 3",
   "language": "python",
   "name": "python3"
  },
  "language_info": {
   "codemirror_mode": {
    "name": "ipython",
    "version": 3
   },
   "file_extension": ".py",
   "mimetype": "text/x-python",
   "name": "python",
   "nbconvert_exporter": "python",
   "pygments_lexer": "ipython3",
   "version": "3.11.7"
  }
 },
 "nbformat": 4,
 "nbformat_minor": 2
}
